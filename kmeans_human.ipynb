{
  "nbformat": 4,
  "nbformat_minor": 0,
  "metadata": {
    "colab": {
      "provenance": [],
      "authorship_tag": "ABX9TyM3gioqkxQN9WTjUrqlaSJq",
      "include_colab_link": true
    },
    "kernelspec": {
      "name": "python3",
      "display_name": "Python 3"
    },
    "language_info": {
      "name": "python"
    }
  },
  "cells": [
    {
      "cell_type": "markdown",
      "metadata": {
        "id": "view-in-github",
        "colab_type": "text"
      },
      "source": [
        "<a href=\"https://colab.research.google.com/github/reynaldovirtual/kmeans_human/blob/main/kmeans_human.ipynb\" target=\"_parent\"><img src=\"https://colab.research.google.com/assets/colab-badge.svg\" alt=\"Open In Colab\"/></a>"
      ]
    },
    {
      "cell_type": "markdown",
      "source": [
        "# **Projeto: Implementação e Análise do Algoritmo de K-means com o Dataset Human Activity Recognition**"
      ],
      "metadata": {
        "id": "4LRTc54zMtHT"
      }
    },
    {
      "cell_type": "markdown",
      "source": [
        "**Instalar e Importar Bibliotecas**"
      ],
      "metadata": {
        "id": "N3jS8fCPM8Oa"
      }
    },
    {
      "cell_type": "code",
      "source": [
        "# Instalar bibliotecas\n",
        "!pip install numpy pandas scikit-learn matplotlib\n",
        "\n",
        "# Importar bibliotecas essenciais\n",
        "import numpy as np\n",
        "import pandas as pd\n",
        "import matplotlib.pyplot as plt\n",
        "from sklearn.cluster import KMeans\n",
        "from sklearn.preprocessing import StandardScaler\n"
      ],
      "metadata": {
        "collapsed": true,
        "id": "6GxObK2tCGzX"
      },
      "execution_count": null,
      "outputs": []
    },
    {
      "cell_type": "markdown",
      "source": [
        "**Obter o dataset**"
      ],
      "metadata": {
        "id": "56ZWH8qkNO46"
      }
    },
    {
      "cell_type": "code",
      "source": [
        "# Subir e descompactar o arquivo\n",
        "!gdown 'https://archive.ics.uci.edu/static/public/240/human+activity+recognition+using+smartphones.zip'\n",
        "# Descompactar o arquivo zip\n",
        "!unzip -o 'human+activity+recognition+using+smartphones'"
      ],
      "metadata": {
        "collapsed": true,
        "id": "lXq5ahHkrY-x"
      },
      "execution_count": null,
      "outputs": []
    },
    {
      "cell_type": "markdown",
      "source": [
        "Navegar pelos Arquivos"
      ],
      "metadata": {
        "id": "d7zr-UGxNf-7"
      }
    },
    {
      "cell_type": "code",
      "source": [
        "import os\n",
        "\n",
        "# Listar arquivos na pasta base\n",
        "base_path = './'\n",
        "for root, dirs, files in os.walk(base_path):\n",
        "    print(f\"Root: {root}\")\n",
        "    for file in files:\n",
        "        print(f\" - {file}\")\n"
      ],
      "metadata": {
        "id": "m7u4euR6gLcC",
        "collapsed": true
      },
      "execution_count": null,
      "outputs": []
    },
    {
      "source": [
        "# Visualizar informações do arquivo de nomes\n",
        "with open('./UCI HAR Dataset.names', 'r', encoding='latin-1') as file: # codificação alterada para 'latin-1'\n",
        "    print(file.read())"
      ],
      "cell_type": "code",
      "metadata": {
        "id": "wSS1wSZHZx6h",
        "collapsed": true
      },
      "execution_count": null,
      "outputs": []
    },
    {
      "cell_type": "code",
      "source": [
        "# Descompactar o arquivo ZIP (Dataset)\n",
        "!unzip -o './UCI HAR Dataset.zip' -d './HARDataset'\n"
      ],
      "metadata": {
        "id": "DwEBaWOKhbXT",
        "collapsed": true
      },
      "execution_count": null,
      "outputs": []
    },
    {
      "cell_type": "code",
      "source": [
        "import os\n",
        "\n",
        "# Listar os arquivos descompactados\n",
        "for root, dirs, files in os.walk('./HARDataset'):\n",
        "    print(f\"Root: {root}\")\n",
        "    for file in files:\n",
        "        print(f\" - {file}\")\n"
      ],
      "metadata": {
        "id": "xf7GzTa3hkXD",
        "collapsed": true
      },
      "execution_count": null,
      "outputs": []
    },
    {
      "cell_type": "code",
      "source": [
        "import os\n",
        "\n",
        "# Obter caminho absoluto do arquivo\n",
        "features_path = os.path.abspath('./HARDataset/UCI HAR Dataset/features.txt')\n",
        "print(features_path)\n"
      ],
      "metadata": {
        "id": "DkCHVBwHhB7B",
        "collapsed": true
      },
      "execution_count": null,
      "outputs": []
    },
    {
      "cell_type": "markdown",
      "source": [
        "Distribuição das atividades no dataset"
      ],
      "metadata": {
        "id": "R8vH1Egik6RZ"
      }
    },
    {
      "source": [
        "# Suponha que 'activity_labels.txt' contenha os rótulos\n",
        "import pandas as pd\n",
        "\n",
        "# Leia os rótulos de atividade do arquivo\n",
        "activity_labels = pd.read_csv('./HARDataset/UCI HAR Dataset/activity_labels.txt',\n",
        "                                   sep=' ', header=None,\n",
        "                                   names=['activity_id', 'activity_label'])\n",
        "\n",
        "# Converta activity_labels em um dicionário para facilitar o acesso\n",
        "activity_labels = dict(zip(activity_labels['activity_id'], activity_labels['activity_label']))\n",
        "\n",
        "print(\"Atividades únicas no dataset:\")\n",
        "print(activity_labels)\n",
        "\n",
        "# Suponha que 'y_train.txt' contenha IDs de atividade para dados de treinamento\n",
        "# Carregue os dados y_train\n",
        "y_train = pd.read_csv('./HARDataset/UCI HAR Dataset/train/y_train.txt', header=None, names=['activity_id']) # carregue os dados y_train do arquivo apropriado\n",
        "\n",
        "print(\"Distribuição das atividades no conjunto de treino:\")\n",
        "print(y_train['activity_id'].value_counts())"
      ],
      "cell_type": "code",
      "metadata": {
        "collapsed": true,
        "id": "4VpUHqJMOGTZ"
      },
      "execution_count": null,
      "outputs": []
    },
    {
      "cell_type": "markdown",
      "source": [
        "**Carregar os conjuntos de dados**"
      ],
      "metadata": {
        "id": "TKGoEhEHk4nJ"
      }
    },
    {
      "cell_type": "code",
      "source": [
        "features_path = './HARDataset/UCI HAR Dataset/features.txt'\n",
        "activity_labels_path = './HARDataset/UCI HAR Dataset/activity_labels.txt'\n",
        "X_train_path = './HARDataset/UCI HAR Dataset/train/X_train.txt'\n",
        "y_train_path = './HARDataset/UCI HAR Dataset/train/y_train.txt'\n",
        "X_test_path = './HARDataset/UCI HAR Dataset/test/X_test.txt'\n",
        "y_test_path = './HARDataset/UCI HAR Dataset/test/y_test.txt'\n"
      ],
      "metadata": {
        "id": "2tQok9R5h5u5"
      },
      "execution_count": 9,
      "outputs": []
    },
    {
      "cell_type": "code",
      "source": [
        "# Carregar os nomes das features\n",
        "features = pd.read_csv(features_path, sep='\\s+', header=None, names=['index', 'feature'])\n",
        "feature_names = features['feature'].values\n",
        "\n",
        "# Confirmar sucesso\n",
        "print(\"Features carregadas com sucesso!\")\n",
        "print(features.head())\n"
      ],
      "metadata": {
        "collapsed": true,
        "id": "G_phY3DZh_Xh"
      },
      "execution_count": null,
      "outputs": []
    },
    {
      "cell_type": "code",
      "source": [
        "print(\"Total de features:\", len(feature_names))\n",
        "print(\"Exemplo de features:\", feature_names[:10])\n"
      ],
      "metadata": {
        "collapsed": true,
        "id": "YJ4tQFgZQeMB"
      },
      "execution_count": null,
      "outputs": []
    },
    {
      "cell_type": "markdown",
      "source": [
        "Dados carregados"
      ],
      "metadata": {
        "id": "iSeJAlwkQzEs"
      }
    },
    {
      "cell_type": "code",
      "source": [
        "# Carregar as features e corrigir nomes duplicados\n",
        "features = pd.read_csv(features_path, sep='\\s+', header=None, names=['index', 'feature'])\n",
        "feature_names = features['feature'].values\n",
        "\n",
        "# Resolver duplicatas nas features\n",
        "unique_feature_names = pd.Index(feature_names).to_series().reset_index()\n",
        "unique_feature_names['unique_name'] = unique_feature_names[0] + \"_\" + (unique_feature_names.groupby(0).cumcount() + 1).astype(str)\n",
        "resolved_feature_names = unique_feature_names['unique_name'].tolist()\n",
        "\n",
        "# Carregar os dados sem usar nomes das features ainda\n",
        "X_train = pd.read_csv(X_train_path, sep='\\s+', header=None)\n",
        "y_train = pd.read_csv(y_train_path, sep='\\s+', header=None, names=['activity_id'])\n",
        "X_test = pd.read_csv(X_test_path, sep='\\s+', header=None)\n",
        "y_test = pd.read_csv(y_test_path, sep='\\s+', header=None, names=['activity_id'])\n",
        "\n",
        "# Renomear as colunas com nomes únicos\n",
        "X_train.columns = resolved_feature_names\n",
        "X_test.columns = resolved_feature_names\n",
        "\n",
        "print(\"Nomes únicos resolvidos e dados carregados com sucesso!\")\n",
        "print(features.head())\n"
      ],
      "metadata": {
        "id": "zto47y_AjCFo",
        "collapsed": true
      },
      "execution_count": null,
      "outputs": []
    },
    {
      "cell_type": "markdown",
      "source": [
        "Conjunto treino e conjunto teste"
      ],
      "metadata": {
        "id": "lRB_DuayjDSo"
      }
    },
    {
      "cell_type": "code",
      "source": [
        "print(\"Dimensões do conjunto de treino:\")\n",
        "print(X_train.shape, y_train.shape)\n",
        "\n",
        "print(\"\\nDimensões do conjunto de teste:\")\n",
        "print(X_test.shape, y_test.shape)\n"
      ],
      "metadata": {
        "id": "Em_7ineTjT9C",
        "collapsed": true
      },
      "execution_count": null,
      "outputs": []
    },
    {
      "cell_type": "markdown",
      "source": [
        "**Normalização dos Dados**"
      ],
      "metadata": {
        "id": "VFOXzlZdR4W0"
      }
    },
    {
      "cell_type": "code",
      "source": [
        "from sklearn.preprocessing import StandardScaler\n",
        "\n",
        "# Normalizar os dados de treino e teste\n",
        "scaler = StandardScaler()\n",
        "X_train_scaled = scaler.fit_transform(X_train)\n",
        "X_test_scaled = scaler.transform(X_test)\n",
        "\n",
        "print(\"Dados normalizados!\")\n"
      ],
      "metadata": {
        "id": "Zp3PtDK2joKC",
        "collapsed": true
      },
      "execution_count": null,
      "outputs": []
    },
    {
      "cell_type": "markdown",
      "source": [
        "**Aplicação do Algoritmo K-means**"
      ],
      "metadata": {
        "id": "e8Ag8rzYjvry"
      }
    },
    {
      "cell_type": "code",
      "source": [
        "from sklearn.cluster import KMeans\n",
        "\n",
        "# Número de clusters (um por atividade)\n",
        "n_clusters = 6\n",
        "\n",
        "# Configurar o modelo K-means\n",
        "kmeans = KMeans(n_clusters=n_clusters, random_state=42)\n",
        "\n",
        "# Ajustar o modelo aos dados normalizados\n",
        "kmeans.fit(X_train_scaled)\n",
        "\n",
        "# Obter os rótulos dos clusters gerados\n",
        "cluster_labels = kmeans.labels_\n",
        "print(\"Clusters gerados pelo K-means:\", np.unique(cluster_labels))\n"
      ],
      "metadata": {
        "id": "zSzhBteQjxRa",
        "collapsed": true
      },
      "execution_count": null,
      "outputs": []
    },
    {
      "cell_type": "markdown",
      "source": [
        "**Avaliar os Clusters usando o coeficiente de silhueta para avaliar a qualidade dos clusters gerados**"
      ],
      "metadata": {
        "id": "FjPwqGBBSTL1"
      }
    },
    {
      "cell_type": "code",
      "source": [
        "from sklearn.metrics import silhouette_score\n",
        "\n",
        "# Avaliação com coeficiente de silhueta\n",
        "silhouette_avg = silhouette_score(X_train_scaled, cluster_labels)\n",
        "print(f\"Coeficiente de Silhueta: {silhouette_avg:.3f}\")\n"
      ],
      "metadata": {
        "id": "TIMkEcD4j-ek",
        "collapsed": true
      },
      "execution_count": null,
      "outputs": []
    },
    {
      "cell_type": "markdown",
      "source": [
        "**Aplicando o Elbow Method (método do cotovelo)**"
      ],
      "metadata": {
        "id": "RaAM65WYZFHN"
      }
    },
    {
      "cell_type": "code",
      "source": [
        "from sklearn.cluster import KMeans\n",
        "import matplotlib.pyplot as plt\n",
        "\n",
        "# Lista para armazenar os valores de WCSS\n",
        "wcss = []\n",
        "\n",
        "# Testar para diferentes números de clusters (1 a 10, por exemplo)\n",
        "for i in range(1, 11):\n",
        "    kmeans = KMeans(n_clusters=i, init='k-means++', random_state=42)\n",
        "    kmeans.fit(X_train_scaled)  # Use os dados normalizados\n",
        "    wcss.append(kmeans.inertia_)  # WCSS é armazenado no atributo 'inertia_'\n",
        "\n",
        "# Plotar o gráfico do método do cotovelo\n",
        "plt.figure(figsize=(8, 5))\n",
        "plt.plot(range(1, 11), wcss, marker='o')\n",
        "plt.title(\"Método do Cotovelo\")\n",
        "plt.xlabel(\"Número de Clusters\")\n",
        "plt.ylabel(\"WCSS (Within-Cluster Sum of Squares)\")\n",
        "plt.grid()\n",
        "plt.show()\n"
      ],
      "metadata": {
        "id": "HzkuUnDEO9qz",
        "collapsed": true
      },
      "execution_count": null,
      "outputs": []
    },
    {
      "cell_type": "markdown",
      "source": [
        "**Visualização dos Clusters reduzindo as dimensões para 2D (com PCA) e visualizando os clusters gerados**"
      ],
      "metadata": {
        "id": "EhubX2CQTEZE"
      }
    },
    {
      "cell_type": "markdown",
      "source": [
        "Verificando a separação com PCA"
      ],
      "metadata": {
        "id": "a4t_OTy2Z13s"
      }
    },
    {
      "cell_type": "code",
      "source": [
        "from sklearn.decomposition import PCA\n",
        "import matplotlib.pyplot as plt\n",
        "\n",
        "# Reduzir para 2 componentes principais\n",
        "pca = PCA(n_components=2)\n",
        "X_train_pca = pca.fit_transform(X_train_scaled)\n",
        "\n",
        "# Plotar os clusters\n",
        "plt.figure(figsize=(8, 6))\n",
        "plt.scatter(X_train_pca[:, 0], X_train_pca[:, 1], c=cluster_labels, cmap='viridis', s=10)\n",
        "plt.title(\"Visualização dos Clusters (K-means)\")\n",
        "plt.xlabel(\"Componente Principal 1\")\n",
        "plt.ylabel(\"Componente Principal 2\")\n",
        "plt.colorbar(label=\"Cluster\")\n",
        "plt.show()\n"
      ],
      "metadata": {
        "id": "e9XIfFvEkGr6",
        "collapsed": true
      },
      "execution_count": null,
      "outputs": []
    },
    {
      "cell_type": "markdown",
      "source": [
        "**Analisar as características de cada cluster formado pelo K-means**"
      ],
      "metadata": {
        "id": "LRM2CbOJcxdu"
      }
    },
    {
      "cell_type": "code",
      "source": [
        "# Adicionar os rótulos reais às amostras\n",
        "y_train['cluster'] = cluster_labels\n",
        "\n",
        "# Verificar correspondência entre clusters e atividades\n",
        "print(y_train.groupby(['activity_id', 'cluster']).size())\n"
      ],
      "metadata": {
        "collapsed": true,
        "id": "rMnUFlRuuWYB"
      },
      "execution_count": null,
      "outputs": []
    },
    {
      "cell_type": "markdown",
      "source": [
        "Confirmar a Presença da Coluna activity\n"
      ],
      "metadata": {
        "id": "v_bPYGxtc_AG"
      }
    },
    {
      "cell_type": "code",
      "source": [
        "# Verificar correspondência entre atividades reais e clusters formados\n",
        "activity_cluster_distribution = y_train.groupby(['activity_id', 'cluster']).size().reset_index(name='count')\n",
        "\n",
        "# Exibir os resultados organizados\n",
        "activity_cluster_distribution_sorted = activity_cluster_distribution.sort_values(by=['activity_id', 'count'], ascending=[True, False])\n",
        "print(activity_cluster_distribution_sorted)\n"
      ],
      "metadata": {
        "collapsed": true,
        "id": "l9VwpSK-eYFP"
      },
      "execution_count": null,
      "outputs": []
    },
    {
      "cell_type": "markdown",
      "source": [
        "Analisar as Estatísticas das Funcionalidades em Cada Cluster"
      ],
      "metadata": {
        "id": "3CnC8xNie4Jf"
      }
    },
    {
      "cell_type": "code",
      "source": [
        "# Adicionar rótulos de cluster aos dados\n",
        "X_train_clustered = X_train.copy()\n",
        "X_train_clustered['cluster'] = kmeans.labels_\n",
        "\n",
        "# Calcular estatísticas das features por cluster\n",
        "cluster_features_stats = X_train_clustered.groupby('cluster').mean()\n",
        "\n",
        "# Exibir as estatísticas dos clusters\n",
        "print(cluster_features_stats)\n"
      ],
      "metadata": {
        "collapsed": true,
        "id": "reOh--3be-9y"
      },
      "execution_count": null,
      "outputs": []
    },
    {
      "cell_type": "markdown",
      "source": [
        "**Visualizar os Padrões de Cada Cluster**"
      ],
      "metadata": {
        "id": "X87STaWBfMs2"
      }
    },
    {
      "source": [
        "import matplotlib.pyplot as plt\n",
        "\n",
        "# Selecionar as features mais relevantes para visualização\n",
        "important_features = ['tBodyAcc-mean()-X', 'tBodyAcc-mean()-Y', 'tBodyAcc-mean()-Z']\n",
        "\n",
        "# Verificar se as features importantes estão presentes nas colunas do DataFrame\n",
        "for feature in important_features:\n",
        "    if feature not in cluster_features_stats.columns:\n",
        "        print(f\"Feature '{feature}' not found in cluster_features_stats. Available columns: {cluster_features_stats.columns}\")\n",
        "        continue  # pule se esta feature não for encontrada\n",
        "\n",
        "    # Plotar as médias das features por cluster\n",
        "    plt.figure(figsize=(8, 5))\n",
        "    plt.bar(cluster_features_stats.index, cluster_features_stats[feature])\n",
        "    plt.title(f\"Média de {feature} por Cluster\")\n",
        "    plt.xlabel(\"Cluster\")\n",
        "    plt.ylabel(f\"Média de {feature}\")\n",
        "    plt.xticks(cluster_features_stats.index)\n",
        "    plt.show()"
      ],
      "cell_type": "code",
      "metadata": {
        "collapsed": true,
        "id": "qyjcFiQqfiDY"
      },
      "execution_count": null,
      "outputs": []
    },
    {
      "cell_type": "markdown",
      "source": [
        "**Comparar Clusters com Atividades Reais**"
      ],
      "metadata": {
        "id": "feS1py0me34p"
      }
    },
    {
      "cell_type": "code",
      "source": [
        "# Criar uma matriz de correspondência entre atividades e clusters\n",
        "activity_cluster_matrix = activity_cluster_distribution.pivot(index='activity_id', columns='cluster', values='count').fillna(0)\n",
        "\n",
        "# Visualizar com heatmap\n",
        "import seaborn as sns\n",
        "\n",
        "plt.figure(figsize=(10, 6))\n",
        "sns.heatmap(activity_cluster_matrix, annot=True, fmt=\".0f\", cmap=\"YlGnBu\")\n",
        "plt.title(\"Correspondência entre Atividades Reais e Clusters\")\n",
        "plt.xlabel(\"Cluster\")\n",
        "plt.ylabel(\"Atividade\")\n",
        "plt.show()\n"
      ],
      "metadata": {
        "collapsed": true,
        "id": "2dW7rG6JgEGp"
      },
      "execution_count": null,
      "outputs": []
    },
    {
      "cell_type": "markdown",
      "source": [
        "**Comparação com Rótulos Originais. Comparando os clusters gerados pelo K-means com os rótulos reais das atividades**"
      ],
      "metadata": {
        "id": "hLrLT2tpTViU"
      }
    },
    {
      "cell_type": "markdown",
      "source": [
        "Confirmar a Presença da Coluna activity"
      ],
      "metadata": {
        "id": "Ntb5k8muTkXV"
      }
    },
    {
      "cell_type": "code",
      "source": [
        "# Verificar as colunas de y_train\n",
        "print(y_train.columns)\n",
        "\n",
        "# Exemplo de dados de y_train\n",
        "print(y_train.head())\n"
      ],
      "metadata": {
        "id": "pXK2I6ZBkolb",
        "collapsed": true
      },
      "execution_count": null,
      "outputs": []
    },
    {
      "cell_type": "markdown",
      "source": [
        "Mapear Atividades"
      ],
      "metadata": {
        "id": "H6fsqxBHTzI8"
      }
    },
    {
      "cell_type": "code",
      "source": [
        "# Caminho para o arquivo activity_labels.txt\n",
        "activity_labels_path = './HARDataset/UCI HAR Dataset/activity_labels.txt'\n",
        "\n",
        "# Carregar os rótulos de atividades\n",
        "activity_labels = pd.read_csv(activity_labels_path, sep='\\s+', header=None, names=['id', 'activity'])\n",
        "\n",
        "# Mapear os IDs das atividades para os nomes\n",
        "y_train['activity'] = y_train['activity_id'].map(activity_labels.set_index('id')['activity'])\n",
        "\n",
        "# Verificar se a coluna foi adicionada\n",
        "print(y_train.head())\n"
      ],
      "metadata": {
        "id": "0w-mSbsIlRMq"
      },
      "execution_count": null,
      "outputs": []
    },
    {
      "cell_type": "markdown",
      "source": [
        "Adicionando os Clusters"
      ],
      "metadata": {
        "id": "CdrLBF2zUA5t"
      }
    },
    {
      "cell_type": "code",
      "source": [
        "# Adicionar os rótulos dos clusters ao DataFrame y_train\n",
        "y_train['cluster'] = cluster_labels\n",
        "\n",
        "# Verificar os dados atualizados\n",
        "print(y_train.head())\n"
      ],
      "metadata": {
        "id": "ZWi7-6-SlhID"
      },
      "execution_count": null,
      "outputs": []
    },
    {
      "cell_type": "markdown",
      "source": [
        "Agrupar e comparar a correspondência entre clusters e atividades"
      ],
      "metadata": {
        "id": "JoqvjFXiUTKE"
      }
    },
    {
      "cell_type": "code",
      "source": [
        "# Verificar correspondência entre atividades e clusters\n",
        "activity_cluster_comparison = y_train.groupby(['activity', 'cluster']).size()\n",
        "\n",
        "# Exibir os resultados\n",
        "print(activity_cluster_comparison)\n"
      ],
      "metadata": {
        "id": "iyknzSoFlpHb",
        "collapsed": true
      },
      "execution_count": null,
      "outputs": []
    },
    {
      "cell_type": "markdown",
      "source": [
        "Organizando a tabela de forma mais legível"
      ],
      "metadata": {
        "id": "mTxFhmIoUiKt"
      }
    },
    {
      "cell_type": "code",
      "source": [
        "# Converter para DataFrame para melhor visualização\n",
        "activity_cluster_df = activity_cluster_comparison.reset_index(name='count')\n",
        "\n",
        "# Ordenar por atividade e cluster\n",
        "activity_cluster_df = activity_cluster_df.sort_values(by=['activity', 'cluster'])\n",
        "\n",
        "# Exibir os primeiros resultados\n",
        "print(activity_cluster_df.head())\n"
      ],
      "metadata": {
        "id": "AO-IGCmLlyyz",
        "collapsed": true
      },
      "execution_count": null,
      "outputs": []
    },
    {
      "cell_type": "markdown",
      "source": [
        "Mapeando IDs para os Nomes das Atividades"
      ],
      "metadata": {
        "id": "ZkCxhmDGU-id"
      }
    },
    {
      "cell_type": "code",
      "source": [
        "# Caminho para o arquivo activity_labels.txt\n",
        "activity_labels_path = './HARDataset/UCI HAR Dataset/activity_labels.txt'\n",
        "\n",
        "# Carregar os rótulos das atividades\n",
        "activity_labels = pd.read_csv(activity_labels_path, sep='\\s+', header=None, names=['id', 'activity'])\n",
        "\n",
        "# Mapear os IDs das atividades para os nomes\n",
        "y_train['activity'] = y_train['activity_id'].map(activity_labels.set_index('id')['activity'])\n",
        "\n",
        "# Confirmar a adição da coluna 'activity'\n",
        "print(y_train.head())\n"
      ],
      "metadata": {
        "id": "VNhOo1MemEdb",
        "collapsed": true
      },
      "execution_count": null,
      "outputs": []
    },
    {
      "cell_type": "code",
      "source": [
        "# Verificar correspondência entre atividades reais e clusters formados\n",
        "activity_cluster_distribution = y_train.groupby(['activity_id', 'cluster']).size().reset_index(name='count')\n",
        "\n",
        "# Exibir os resultados organizados\n",
        "activity_cluster_distribution_sorted = activity_cluster_distribution.sort_values(by=['activity_id', 'count'], ascending=[True, False])\n",
        "print(activity_cluster_distribution_sorted)\n"
      ],
      "metadata": {
        "id": "dI8B21BcRVYb",
        "collapsed": true
      },
      "execution_count": null,
      "outputs": []
    },
    {
      "cell_type": "code",
      "source": [
        "# Carregar os rótulos de atividades\n",
        "activity_labels_path = './HARDataset/UCI HAR Dataset/activity_labels.txt'\n",
        "activity_labels = pd.read_csv(activity_labels_path, sep='\\s+', header=None, names=['id', 'activity'])\n",
        "activity_cluster_df['activity_id'] = activity_cluster_df['activity'].map(activity_labels.set_index('activity')['id'])\n",
        "\n",
        "# Substituir activity_id por activity no DataFrame\n",
        "activity_cluster_df['activity'] = activity_cluster_df['activity_id'].map(activity_labels.set_index('id')['activity'])\n",
        "\n",
        "# Criar a matriz usando os nomes das atividades\n",
        "activity_cluster_matrix_named = activity_cluster_df.pivot(index='activity', columns='cluster', values='count').fillna(0)\n",
        "\n",
        "# Plotar o heatmap com nomes das atividades\n",
        "plt.figure(figsize=(10, 6))\n",
        "sns.heatmap(activity_cluster_matrix_named, annot=True, fmt=\".0f\", cmap=\"YlGnBu\")\n",
        "plt.title(\"Distribuição de Atividades por Clusters\")\n",
        "plt.xlabel(\"Cluster\")\n",
        "plt.ylabel(\"Atividade\")\n",
        "plt.show()\n"
      ],
      "metadata": {
        "id": "dGsZLDY3kdSP"
      },
      "execution_count": null,
      "outputs": []
    }
  ]
}